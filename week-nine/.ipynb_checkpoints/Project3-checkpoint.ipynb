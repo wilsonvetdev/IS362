{
 "cells": [
  {
   "cell_type": "code",
   "execution_count": 70,
   "id": "bored-audio",
   "metadata": {},
   "outputs": [],
   "source": [
    "import pandas as pd\n",
    "import sqlite3\n",
    "from os import path"
   ]
  },
  {
   "cell_type": "code",
   "execution_count": 71,
   "id": "answering-promotion",
   "metadata": {},
   "outputs": [],
   "source": [
    "connection = sqlite3.connect('/Users/WN/Desktop/Flatiron/chinook-database/ChinookDatabase/DataSources/Chinook_Sqlite.sqlite')"
   ]
  },
  {
   "cell_type": "code",
   "execution_count": 72,
   "id": "bearing-safety",
   "metadata": {},
   "outputs": [],
   "source": [
    "invoice_df = pd.read_sql('SELECT * FROM Invoice', connection)\n",
    "\n",
    "customer_df = pd.read_sql('SELECT * FROM Customer', connection)\n",
    "\n",
    "invoiceline_df = pd.read_sql('SELECT * FROM InvoiceLine', connection)\n",
    "\n",
    "track_df = pd.read_sql('SELECT * FROM Track', connection)\n",
    "\n",
    "album_df = pd.read_sql('SELECT * FROM Album', connection)"
   ]
  },
  {
   "cell_type": "code",
   "execution_count": 73,
   "id": "temporal-nomination",
   "metadata": {},
   "outputs": [],
   "source": [
    "customer_invoice = pd.merge(customer_df, invoice_df)\n",
    "\n",
    "customer_invoice = customer_invoice[['CustomerId', 'FirstName', 'LastName', 'InvoiceId']]\n",
    "\n",
    "all_df = pd.merge(customer_invoice, invoiceline_df, left_on='InvoiceId', right_on='InvoiceId')\n",
    "\n",
    "all_df = pd.merge(all_df, track_df, left_on='TrackId', right_on='TrackId')\n",
    "\n",
    "all_df = pd.merge(all_df, album_df, left_on='AlbumId', right_on='AlbumId')"
   ]
  },
  {
   "cell_type": "code",
   "execution_count": 81,
   "id": "pacific-cancer",
   "metadata": {},
   "outputs": [
    {
     "data": {
      "text/html": [
       "<div>\n",
       "<style scoped>\n",
       "    .dataframe tbody tr th:only-of-type {\n",
       "        vertical-align: middle;\n",
       "    }\n",
       "\n",
       "    .dataframe tbody tr th {\n",
       "        vertical-align: top;\n",
       "    }\n",
       "\n",
       "    .dataframe thead th {\n",
       "        text-align: right;\n",
       "    }\n",
       "</style>\n",
       "<table border=\"1\" class=\"dataframe\">\n",
       "  <thead>\n",
       "    <tr style=\"text-align: right;\">\n",
       "      <th></th>\n",
       "      <th>index</th>\n",
       "      <th>LastName</th>\n",
       "      <th>FirstName</th>\n",
       "      <th>Name</th>\n",
       "      <th>Title</th>\n",
       "    </tr>\n",
       "  </thead>\n",
       "  <tbody>\n",
       "    <tr>\n",
       "      <th>0</th>\n",
       "      <td>52</td>\n",
       "      <td>Almeida</td>\n",
       "      <td>Roberto</td>\n",
       "      <td>Right Next Door to Hell</td>\n",
       "      <td>Use Your Illusion I</td>\n",
       "    </tr>\n",
       "    <tr>\n",
       "      <th>1</th>\n",
       "      <td>84</td>\n",
       "      <td>Almeida</td>\n",
       "      <td>Roberto</td>\n",
       "      <td>Mateus Enter</td>\n",
       "      <td>Afrociberdelia</td>\n",
       "    </tr>\n",
       "    <tr>\n",
       "      <th>2</th>\n",
       "      <td>85</td>\n",
       "      <td>Almeida</td>\n",
       "      <td>Roberto</td>\n",
       "      <td>Samba Do Lado</td>\n",
       "      <td>Afrociberdelia</td>\n",
       "    </tr>\n",
       "    <tr>\n",
       "      <th>3</th>\n",
       "      <td>87</td>\n",
       "      <td>Almeida</td>\n",
       "      <td>Roberto</td>\n",
       "      <td>Um Satélite Na Cabeça</td>\n",
       "      <td>Afrociberdelia</td>\n",
       "    </tr>\n",
       "    <tr>\n",
       "      <th>4</th>\n",
       "      <td>88</td>\n",
       "      <td>Almeida</td>\n",
       "      <td>Roberto</td>\n",
       "      <td>Amor De Muito</td>\n",
       "      <td>Afrociberdelia</td>\n",
       "    </tr>\n",
       "  </tbody>\n",
       "</table>\n",
       "</div>"
      ],
      "text/plain": [
       "   index LastName FirstName                     Name                Title\n",
       "0     52  Almeida   Roberto  Right Next Door to Hell  Use Your Illusion I\n",
       "1     84  Almeida   Roberto             Mateus Enter       Afrociberdelia\n",
       "2     85  Almeida   Roberto            Samba Do Lado       Afrociberdelia\n",
       "3     87  Almeida   Roberto    Um Satélite Na Cabeça       Afrociberdelia\n",
       "4     88  Almeida   Roberto            Amor De Muito       Afrociberdelia"
      ]
     },
     "execution_count": 81,
     "metadata": {},
     "output_type": "execute_result"
    }
   ],
   "source": [
    "all_df = all_df[['LastName', 'FirstName', 'Name', 'Title']]\n",
    "\n",
    "all_df.sort_values(by=['LastName', 'FirstName']).reset_index().head()"
   ]
  }
 ],
 "metadata": {
  "kernelspec": {
   "display_name": "Python 3",
   "language": "python",
   "name": "python3"
  },
  "language_info": {
   "codemirror_mode": {
    "name": "ipython",
    "version": 3
   },
   "file_extension": ".py",
   "mimetype": "text/x-python",
   "name": "python",
   "nbconvert_exporter": "python",
   "pygments_lexer": "ipython3",
   "version": "3.7.7"
  }
 },
 "nbformat": 4,
 "nbformat_minor": 5
}
