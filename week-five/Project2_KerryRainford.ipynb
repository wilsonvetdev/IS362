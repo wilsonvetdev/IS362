{
 "cells": [
  {
   "cell_type": "code",
   "execution_count": 7,
   "id": "raising-detail",
   "metadata": {},
   "outputs": [],
   "source": [
    "import pandas as pd"
   ]
  },
  {
   "cell_type": "code",
   "execution_count": 8,
   "id": "monetary-rebecca",
   "metadata": {},
   "outputs": [],
   "source": [
    "teachers_df = pd.read_csv('kerryrainford.csv')"
   ]
  },
  {
   "cell_type": "markdown",
   "id": "fantastic-dairy",
   "metadata": {},
   "source": [
    "<h1>Untidy Dataset From Kerry Rainford</h1>"
   ]
  },
  {
   "cell_type": "code",
   "execution_count": 9,
   "id": "binary-spectacular",
   "metadata": {},
   "outputs": [
    {
     "data": {
      "text/html": [
       "<div>\n",
       "<style scoped>\n",
       "    .dataframe tbody tr th:only-of-type {\n",
       "        vertical-align: middle;\n",
       "    }\n",
       "\n",
       "    .dataframe tbody tr th {\n",
       "        vertical-align: top;\n",
       "    }\n",
       "\n",
       "    .dataframe thead th {\n",
       "        text-align: right;\n",
       "    }\n",
       "</style>\n",
       "<table border=\"1\" class=\"dataframe\">\n",
       "  <thead>\n",
       "    <tr style=\"text-align: right;\">\n",
       "      <th></th>\n",
       "      <th>Teacher_ID</th>\n",
       "      <th>Name</th>\n",
       "      <th>Social_Security_Number</th>\n",
       "      <th>School</th>\n",
       "      <th>Home_Address</th>\n",
       "      <th>Salary</th>\n",
       "    </tr>\n",
       "  </thead>\n",
       "  <tbody>\n",
       "    <tr>\n",
       "      <th>0</th>\n",
       "      <td>1</td>\n",
       "      <td>Jane Doe</td>\n",
       "      <td>123-gh-uh90</td>\n",
       "      <td>112</td>\n",
       "      <td>123 Lane Bronx NY 10485</td>\n",
       "      <td>55555</td>\n",
       "    </tr>\n",
       "    <tr>\n",
       "      <th>1</th>\n",
       "      <td>2</td>\n",
       "      <td>Smith Jamie</td>\n",
       "      <td>089-70-8909</td>\n",
       "      <td>Michael J.Quill</td>\n",
       "      <td>123 Lane Bronx NY 10485</td>\n",
       "      <td>66666</td>\n",
       "    </tr>\n",
       "    <tr>\n",
       "      <th>2</th>\n",
       "      <td>2</td>\n",
       "      <td>Kay</td>\n",
       "      <td>7898</td>\n",
       "      <td>Malcom X Elementary</td>\n",
       "      <td>657 street</td>\n",
       "      <td>78987</td>\n",
       "    </tr>\n",
       "  </tbody>\n",
       "</table>\n",
       "</div>"
      ],
      "text/plain": [
       "   Teacher_ID         Name Social_Security_Number               School  \\\n",
       "0           1     Jane Doe            123-gh-uh90                  112   \n",
       "1           2  Smith Jamie            089-70-8909      Michael J.Quill   \n",
       "2           2          Kay                   7898  Malcom X Elementary   \n",
       "\n",
       "              Home_Address  Salary  \n",
       "0  123 Lane Bronx NY 10485   55555  \n",
       "1  123 Lane Bronx NY 10485   66666  \n",
       "2               657 street   78987  "
      ]
     },
     "execution_count": 9,
     "metadata": {},
     "output_type": "execute_result"
    }
   ],
   "source": [
    "teachers_df"
   ]
  },
  {
   "cell_type": "markdown",
   "id": "nonprofit-spell",
   "metadata": {},
   "source": [
    "<h2>Deleting the name column from the DataFrame and creating two separate columsn for first and last name</h2>"
   ]
  },
  {
   "cell_type": "code",
   "execution_count": 12,
   "id": "ethical-recruitment",
   "metadata": {},
   "outputs": [
    {
     "data": {
      "text/html": [
       "<div>\n",
       "<style scoped>\n",
       "    .dataframe tbody tr th:only-of-type {\n",
       "        vertical-align: middle;\n",
       "    }\n",
       "\n",
       "    .dataframe tbody tr th {\n",
       "        vertical-align: top;\n",
       "    }\n",
       "\n",
       "    .dataframe thead th {\n",
       "        text-align: right;\n",
       "    }\n",
       "</style>\n",
       "<table border=\"1\" class=\"dataframe\">\n",
       "  <thead>\n",
       "    <tr style=\"text-align: right;\">\n",
       "      <th></th>\n",
       "      <th>Teacher_ID</th>\n",
       "      <th>Social_Security_Number</th>\n",
       "      <th>School</th>\n",
       "      <th>Home_Address</th>\n",
       "      <th>Salary</th>\n",
       "      <th>Last_Name</th>\n",
       "      <th>First_Name</th>\n",
       "    </tr>\n",
       "  </thead>\n",
       "  <tbody>\n",
       "    <tr>\n",
       "      <th>0</th>\n",
       "      <td>1</td>\n",
       "      <td>123-gh-uh90</td>\n",
       "      <td>112</td>\n",
       "      <td>123 Lane Bronx NY 10485</td>\n",
       "      <td>55555</td>\n",
       "      <td>Doe</td>\n",
       "      <td>Jane</td>\n",
       "    </tr>\n",
       "    <tr>\n",
       "      <th>1</th>\n",
       "      <td>2</td>\n",
       "      <td>089-70-8909</td>\n",
       "      <td>Michael J.Quill</td>\n",
       "      <td>123 Lane Bronx NY 10485</td>\n",
       "      <td>66666</td>\n",
       "      <td>Smith</td>\n",
       "      <td>Jamie</td>\n",
       "    </tr>\n",
       "    <tr>\n",
       "      <th>2</th>\n",
       "      <td>2</td>\n",
       "      <td>7898</td>\n",
       "      <td>Malcom X Elementary</td>\n",
       "      <td>657 street</td>\n",
       "      <td>78987</td>\n",
       "      <td>Lin</td>\n",
       "      <td>Kay</td>\n",
       "    </tr>\n",
       "  </tbody>\n",
       "</table>\n",
       "</div>"
      ],
      "text/plain": [
       "   Teacher_ID Social_Security_Number               School  \\\n",
       "0           1            123-gh-uh90                  112   \n",
       "1           2            089-70-8909      Michael J.Quill   \n",
       "2           2                   7898  Malcom X Elementary   \n",
       "\n",
       "              Home_Address  Salary Last_Name First_Name  \n",
       "0  123 Lane Bronx NY 10485   55555       Doe       Jane  \n",
       "1  123 Lane Bronx NY 10485   66666     Smith      Jamie  \n",
       "2               657 street   78987       Lin        Kay  "
      ]
     },
     "execution_count": 12,
     "metadata": {},
     "output_type": "execute_result"
    }
   ],
   "source": [
    "teachers_df[\"Last_Name\"] = [\"Doe\", \"Smith\", \"Lin\"]\n",
    "teachers_df[\"First_Name\"] = [\"Jane\", \"Jamie\", \"Kay\"]\n",
    "del teachers_df[\"Name\"]"
   ]
  },
  {
   "cell_type": "markdown",
   "id": "adverse-stack",
   "metadata": {},
   "source": [
    "<h2>Fixing the Teacher_ID column to be unique and to start from 0, and fixing SS number column</h2>"
   ]
  },
  {
   "cell_type": "code",
   "execution_count": 16,
   "id": "oriented-spell",
   "metadata": {},
   "outputs": [
    {
     "data": {
      "text/html": [
       "<div>\n",
       "<style scoped>\n",
       "    .dataframe tbody tr th:only-of-type {\n",
       "        vertical-align: middle;\n",
       "    }\n",
       "\n",
       "    .dataframe tbody tr th {\n",
       "        vertical-align: top;\n",
       "    }\n",
       "\n",
       "    .dataframe thead th {\n",
       "        text-align: right;\n",
       "    }\n",
       "</style>\n",
       "<table border=\"1\" class=\"dataframe\">\n",
       "  <thead>\n",
       "    <tr style=\"text-align: right;\">\n",
       "      <th></th>\n",
       "      <th>Teacher_ID</th>\n",
       "      <th>Social_Security_Number</th>\n",
       "      <th>School</th>\n",
       "      <th>Home_Address</th>\n",
       "      <th>Salary</th>\n",
       "      <th>Last_Name</th>\n",
       "      <th>First_Name</th>\n",
       "    </tr>\n",
       "  </thead>\n",
       "  <tbody>\n",
       "    <tr>\n",
       "      <th>0</th>\n",
       "      <td>1</td>\n",
       "      <td>123-gh-uh90</td>\n",
       "      <td>112</td>\n",
       "      <td>123 Lane Bronx NY 10485</td>\n",
       "      <td>55555</td>\n",
       "      <td>Doe</td>\n",
       "      <td>Jane</td>\n",
       "    </tr>\n",
       "    <tr>\n",
       "      <th>1</th>\n",
       "      <td>2</td>\n",
       "      <td>089-70-8909</td>\n",
       "      <td>Michael J.Quill</td>\n",
       "      <td>123 Lane Bronx NY 10485</td>\n",
       "      <td>66666</td>\n",
       "      <td>Smith</td>\n",
       "      <td>Jamie</td>\n",
       "    </tr>\n",
       "    <tr>\n",
       "      <th>2</th>\n",
       "      <td>3</td>\n",
       "      <td>7898</td>\n",
       "      <td>Malcom X Elementary</td>\n",
       "      <td>657 street</td>\n",
       "      <td>78987</td>\n",
       "      <td>Lin</td>\n",
       "      <td>Kay</td>\n",
       "    </tr>\n",
       "  </tbody>\n",
       "</table>\n",
       "</div>"
      ],
      "text/plain": [
       "   Teacher_ID Social_Security_Number               School  \\\n",
       "0           1            123-gh-uh90                  112   \n",
       "1           2            089-70-8909      Michael J.Quill   \n",
       "2           3                   7898  Malcom X Elementary   \n",
       "\n",
       "              Home_Address  Salary Last_Name First_Name  \n",
       "0  123 Lane Bronx NY 10485   55555       Doe       Jane  \n",
       "1  123 Lane Bronx NY 10485   66666     Smith      Jamie  \n",
       "2               657 street   78987       Lin        Kay  "
      ]
     },
     "execution_count": 16,
     "metadata": {},
     "output_type": "execute_result"
    }
   ],
   "source": [
    "teachers_df[\"Teacher_ID\"] = [num + 1 for num in range(len(teachers_df[\"Teacher_ID\"]))]\n",
    "teachers_df"
   ]
  },
  {
   "cell_type": "code",
   "execution_count": 19,
   "id": "talented-hayes",
   "metadata": {},
   "outputs": [
    {
     "data": {
      "text/html": [
       "<div>\n",
       "<style scoped>\n",
       "    .dataframe tbody tr th:only-of-type {\n",
       "        vertical-align: middle;\n",
       "    }\n",
       "\n",
       "    .dataframe tbody tr th {\n",
       "        vertical-align: top;\n",
       "    }\n",
       "\n",
       "    .dataframe thead th {\n",
       "        text-align: right;\n",
       "    }\n",
       "</style>\n",
       "<table border=\"1\" class=\"dataframe\">\n",
       "  <thead>\n",
       "    <tr style=\"text-align: right;\">\n",
       "      <th></th>\n",
       "      <th>Teacher_ID</th>\n",
       "      <th>Social_Security_Number</th>\n",
       "      <th>School</th>\n",
       "      <th>Home_Address</th>\n",
       "      <th>Salary</th>\n",
       "      <th>Last_Name</th>\n",
       "      <th>First_Name</th>\n",
       "    </tr>\n",
       "  </thead>\n",
       "  <tbody>\n",
       "    <tr>\n",
       "      <th>0</th>\n",
       "      <td>1</td>\n",
       "      <td>123-45-3215</td>\n",
       "      <td>112</td>\n",
       "      <td>123 Lane Bronx NY 10485</td>\n",
       "      <td>55555</td>\n",
       "      <td>Doe</td>\n",
       "      <td>Jane</td>\n",
       "    </tr>\n",
       "    <tr>\n",
       "      <th>1</th>\n",
       "      <td>2</td>\n",
       "      <td>089-70-8909</td>\n",
       "      <td>Michael J.Quill</td>\n",
       "      <td>123 Lane Bronx NY 10485</td>\n",
       "      <td>66666</td>\n",
       "      <td>Smith</td>\n",
       "      <td>Jamie</td>\n",
       "    </tr>\n",
       "    <tr>\n",
       "      <th>2</th>\n",
       "      <td>3</td>\n",
       "      <td>321-65-7898</td>\n",
       "      <td>Malcom X Elementary</td>\n",
       "      <td>657 street</td>\n",
       "      <td>78987</td>\n",
       "      <td>Lin</td>\n",
       "      <td>Kay</td>\n",
       "    </tr>\n",
       "  </tbody>\n",
       "</table>\n",
       "</div>"
      ],
      "text/plain": [
       "   Teacher_ID Social_Security_Number               School  \\\n",
       "0           1            123-45-3215                  112   \n",
       "1           2            089-70-8909      Michael J.Quill   \n",
       "2           3            321-65-7898  Malcom X Elementary   \n",
       "\n",
       "              Home_Address  Salary Last_Name First_Name  \n",
       "0  123 Lane Bronx NY 10485   55555       Doe       Jane  \n",
       "1  123 Lane Bronx NY 10485   66666     Smith      Jamie  \n",
       "2               657 street   78987       Lin        Kay  "
      ]
     },
     "execution_count": 19,
     "metadata": {},
     "output_type": "execute_result"
    }
   ],
   "source": [
    "teachers_df[\"Social_Security_Number\"] = [\"123-45-3215\", \"089-70-8909\", \"321-65-7898\"]\n",
    "teachers_df"
   ]
  },
  {
   "cell_type": "code",
   "execution_count": null,
   "id": "tired-experiment",
   "metadata": {},
   "outputs": [],
   "source": [
    "teachers_df = teachers_df[[\"Teacher_ID\", \"Last_Name\", \"First_Name\", \"Social_Security_Number\", \"School\"\n",
    "                          \n",
    "                          ]]"
   ]
  }
 ],
 "metadata": {
  "kernelspec": {
   "display_name": "Python 3",
   "language": "python",
   "name": "python3"
  },
  "language_info": {
   "codemirror_mode": {
    "name": "ipython",
    "version": 3
   },
   "file_extension": ".py",
   "mimetype": "text/x-python",
   "name": "python",
   "nbconvert_exporter": "python",
   "pygments_lexer": "ipython3",
   "version": "3.7.6"
  }
 },
 "nbformat": 4,
 "nbformat_minor": 5
}
