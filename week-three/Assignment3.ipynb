{
 "cells": [
  {
   "cell_type": "code",
   "execution_count": 5,
   "id": "designed-cycling",
   "metadata": {},
   "outputs": [],
   "source": [
    "import pandas as pd"
   ]
  },
  {
   "cell_type": "code",
   "execution_count": 6,
   "id": "statistical-hayes",
   "metadata": {},
   "outputs": [],
   "source": [
    "entries_list = [55, 120, 180, 255, 290, 370, 480, 550, 670]\n",
    "\n",
    "entries_ser = pd.Series(entries_list)"
   ]
  },
  {
   "cell_type": "code",
   "execution_count": 7,
   "id": "communist-document",
   "metadata": {},
   "outputs": [
    {
     "data": {
      "text/plain": [
       "0     55\n",
       "1    120\n",
       "2    180\n",
       "3    255\n",
       "4    290\n",
       "5    370\n",
       "6    480\n",
       "7    550\n",
       "8    670\n",
       "dtype: int64"
      ]
     },
     "execution_count": 7,
     "metadata": {},
     "output_type": "execute_result"
    }
   ],
   "source": [
    "entries_ser"
   ]
  },
  {
   "cell_type": "code",
   "execution_count": 21,
   "id": "honest-abuse",
   "metadata": {},
   "outputs": [
    {
     "name": "stdout",
     "output_type": "stream",
     "text": [
      "Miles ridden on day 0: 55.\n",
      "Miles ridden on day 1: 65.\n",
      "Miles ridden on day 2: 60.\n",
      "Miles ridden on day 3: 75.\n",
      "Miles ridden on day 4: 35.\n",
      "Miles ridden on day 5: 80.\n",
      "Miles ridden on day 6: 110.\n",
      "Miles ridden on day 7: 70.\n",
      "Miles ridden on day 8: 120.\n"
     ]
    }
   ],
   "source": [
    "for i in range(len(entries_ser) - 1):\n",
    "    if i == 0:\n",
    "        print(f\"Miles ridden on day {i}: {entries_ser[i]}.\")\n",
    "    print(f\"Miles ridden on day {i + 1}: {entries_ser[i + 1] - entries_ser[i]}.\")"
   ]
  },
  {
   "cell_type": "code",
   "execution_count": null,
   "id": "superb-exercise",
   "metadata": {},
   "outputs": [],
   "source": []
  }
 ],
 "metadata": {
  "kernelspec": {
   "display_name": "Python 3",
   "language": "python",
   "name": "python3"
  },
  "language_info": {
   "codemirror_mode": {
    "name": "ipython",
    "version": 3
   },
   "file_extension": ".py",
   "mimetype": "text/x-python",
   "name": "python",
   "nbconvert_exporter": "python",
   "pygments_lexer": "ipython3",
   "version": "3.7.6"
  }
 },
 "nbformat": 4,
 "nbformat_minor": 5
}
