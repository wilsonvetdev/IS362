{
 "cells": [
  {
   "cell_type": "markdown",
   "id": "complimentary-saying",
   "metadata": {},
   "source": [
    "<h1>Learning about the zip() function in Python</h1>\n",
    "\n",
    "<h2>By Wilson Ng</h2>\n",
    "\n",
    "<h3>Description:</h3> \n",
    "<p>The zip() function takes iterables(can be zero or more), and return tuple(s) generated from each iterable.</p>\n",
    "<p>zip() can accept any type of iterable: files, lists, tuples, dictionaries, sets etc...</p>"
   ]
  },
  {
   "cell_type": "markdown",
   "id": "prepared-chair",
   "metadata": {},
   "source": [
    "<h3>Passing Arguments and Code Examples</h3>\n",
    "<p>The tuples' <b>length</b> depends on the <b>number of arguments</b> passed into the zip() function. </p>"
   ]
  },
  {
   "cell_type": "code",
   "execution_count": 11,
   "id": "isolated-programming",
   "metadata": {},
   "outputs": [
    {
     "data": {
      "text/plain": [
       "[('Wilson', 25), ('John', 26), ('Jane', 27)]"
      ]
     },
     "execution_count": 11,
     "metadata": {},
     "output_type": "execute_result"
    }
   ],
   "source": [
    "# Code example with two arguments passed into zip() function\n",
    "\n",
    "name = [\"Wilson\", \"John\", \"Jane\"]\n",
    "\n",
    "age = [25, 26, 27]\n",
    "\n",
    "list(zip(name, age)) # converting the zip object returned to a list of tuples."
   ]
  },
  {
   "cell_type": "code",
   "execution_count": 15,
   "id": "mobile-surprise",
   "metadata": {},
   "outputs": [
    {
     "data": {
      "text/plain": [
       "[('Wilson', 25, 'Gaming'), ('John', 26, 'Climbing'), ('Jane', 27, 'Archery')]"
      ]
     },
     "execution_count": 15,
     "metadata": {},
     "output_type": "execute_result"
    }
   ],
   "source": [
    "# Code example with three arguments passed into zip() function\n",
    "\n",
    "name = [\"Wilson\", \"John\", \"Jane\"]\n",
    "\n",
    "age = [25, 26, 27]\n",
    "\n",
    "hobby = [\"Gaming\", \"Climbing\", \"Archery\"]\n",
    "\n",
    "list(zip(name, age, hobby)) # converting the zip object returned to a list of tuples."
   ]
  },
  {
   "cell_type": "markdown",
   "id": "active-approach",
   "metadata": {},
   "source": [
    "<h3>zip() function gotchas</h3>\n",
    "<p>Working with sequences like <b>lists, tuples, or strings</b> guarantees the iterables to be evaluated form left to right</p>\n",
    "<p>Iterables like <b>sets</b> might produce unexpected results since they aren't sequenced.</p>"
   ]
  },
  {
   "cell_type": "code",
   "execution_count": 16,
   "id": "seasonal-methodology",
   "metadata": {},
   "outputs": [
    {
     "data": {
      "text/plain": [
       "[('two', 1), ('one', 2), ('three', 3)]"
      ]
     },
     "execution_count": 16,
     "metadata": {},
     "output_type": "execute_result"
    }
   ],
   "source": [
    "set_one = {\"one\", \"two\", \"three\"}\n",
    "\n",
    "set_two = {1, 2, 3}\n",
    "\n",
    "list(zip(set_one, set_two)) # output of tuples might not meet expectation"
   ]
  },
  {
   "cell_type": "markdown",
   "id": "unlimited-raising",
   "metadata": {},
   "source": [
    "<h3>zip() function with arguments that has unequal length</h3>\n",
    "<p>It's possible to pass in iterables that aren't the same length into the zip() function</p>\n",
    "<p>The number of elements that zip() returns will be equal to the length of the <i>shortest</i> iterable.</p>"
   ]
  },
  {
   "cell_type": "code",
   "execution_count": 17,
   "id": "bizarre-broad",
   "metadata": {},
   "outputs": [
    {
     "data": {
      "text/plain": [
       "[(1, 'one'), (2, 'two'), (3, 'three')]"
      ]
     },
     "execution_count": 17,
     "metadata": {},
     "output_type": "execute_result"
    }
   ],
   "source": [
    "list_with_three = [1, 2, 3]\n",
    "\n",
    "list_with_four = [\"one\", \"two\", \"three\", \"four\"]\n",
    "\n",
    "list(zip(list_with_three, list_with_four)) # This will output three tuples inside a list."
   ]
  },
  {
   "cell_type": "markdown",
   "id": "primary-divide",
   "metadata": {},
   "source": [
    "<h3>Looping with the help of zip() function</h3>\n",
    "<p>zip() allows us to iterate in parallel over two or more iterables.</p>"
   ]
  },
  {
   "cell_type": "code",
   "execution_count": 19,
   "id": "enabling-stockholm",
   "metadata": {},
   "outputs": [
    {
     "name": "stdout",
     "output_type": "stream",
     "text": [
      "1 one\n",
      "2 two\n",
      "3 three\n"
     ]
    }
   ],
   "source": [
    "for num, num_str in zip(list_with_three, list_with_four): # unpack the tuples here\n",
    "    print(num, num_str)"
   ]
  },
  {
   "cell_type": "markdown",
   "id": "written-anger",
   "metadata": {},
   "source": [
    "<h3>Unzipping and Unpacking list of tuples with zip() and (*) unpacking operator</h3>\n"
   ]
  },
  {
   "cell_type": "code",
   "execution_count": 26,
   "id": "british-papua",
   "metadata": {},
   "outputs": [
    {
     "name": "stdout",
     "output_type": "stream",
     "text": [
      "(1, 2, 3)\n",
      "('one', 'two', 'three')\n"
     ]
    }
   ],
   "source": [
    "list_with_three = [1, 2, 3]\n",
    "\n",
    "list_with_four = [\"one\", \"two\", \"three\", \"four\"]\n",
    "\n",
    "list_of_tuples = list(zip(list_with_three, list_with_four)) # variable to point to the list\n",
    "\n",
    "numbers, words = zip(*list_of_tuples) \n",
    "# creates two different tuples, unpacking into numbers and words\n",
    "\n",
    "print(numbers) # type of tuple\n",
    "\n",
    "print(words) # type of tuuple"
   ]
  },
  {
   "cell_type": "code",
   "execution_count": null,
   "id": "filled-twenty",
   "metadata": {},
   "outputs": [],
   "source": []
  }
 ],
 "metadata": {
  "kernelspec": {
   "display_name": "Python 3",
   "language": "python",
   "name": "python3"
  },
  "language_info": {
   "codemirror_mode": {
    "name": "ipython",
    "version": 3
   },
   "file_extension": ".py",
   "mimetype": "text/x-python",
   "name": "python",
   "nbconvert_exporter": "python",
   "pygments_lexer": "ipython3",
   "version": "3.7.6"
  }
 },
 "nbformat": 4,
 "nbformat_minor": 5
}
