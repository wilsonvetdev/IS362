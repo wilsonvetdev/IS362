{
 "cells": [
  {
   "cell_type": "markdown",
   "id": "completed-response",
   "metadata": {},
   "source": [
    "# Final Project on Extracting Stock Sentiment from News Headlines"
   ]
  },
  {
   "cell_type": "code",
   "execution_count": 26,
   "id": "reduced-circulation",
   "metadata": {},
   "outputs": [],
   "source": [
    "from bs4 import BeautifulSoup\n",
    "from nltk.sentiment.vader import SentimentIntensityAnalyzer\n",
    "import nltk\n",
    "import os\n",
    "import pandas as pd\n",
    "import matplotlib.pyplot as plt\n",
    "\n",
    "html_tables = {}\n",
    "\n",
    "for table_name in os.listdir('datasets'):\n",
    "    table_path = f'datasets/{table_name}'\n",
    "    table_file = open(table_path, 'r')\n",
    "    html = BeautifulSoup(table_file)\n",
    "    html_table = html.find(id='news-table')\n",
    "    html_tables[table_name] = html_table"
   ]
  },
  {
   "cell_type": "code",
   "execution_count": 17,
   "id": "finnish-cameroon",
   "metadata": {},
   "outputs": [
    {
     "name": "stdout",
     "output_type": "stream",
     "text": [
      "File number 1:\n",
      "Billionaire investor questions Elon Musk getting 'a pass' after bombshell tweets\n",
      "Sep-21-18 09:56PM  \n",
      "File number 2:\n",
      "Broadcoms Stock Looks Like a Winner\n",
      "09:30PM  \n",
      "File number 3:\n",
      "SHAREHOLDER ALERT:  Pomerantz Law Firm Reminds Shareholders with Losses on their Investment in Tesla, Inc. of Class Action Lawsuit and Upcoming Deadline  TSLA\n",
      "05:30PM  \n",
      "File number 4:\n",
      "Tesla's People Problem and the Inscrutable Musk: 2 Things That Make You Go Hmmm\n",
      "05:30PM  \n"
     ]
    }
   ],
   "source": [
    "tsla = html_tables['tsla_22sep.html']\n",
    "# Get all the table rows tagged in HTML with <tr> into 'tesla_tr'\n",
    "tsla_tr = tsla.findAll('tr')\n",
    "\n",
    "# For each row...\n",
    "for i, table_row in enumerate(tsla_tr):\n",
    "    # Read the text of the element 'a' into 'link_text'\n",
    "    link_text = table_row.a.get_text()\n",
    "    # Read the text of the element 'td' into 'data_text'\n",
    "    data_text = table_row.td.get_text()\n",
    "    # Print the count\n",
    "    print(f'File number {i+1}:')\n",
    "    # Print the contents of 'link_text' and 'data_text' \n",
    "    print(link_text)\n",
    "    print(data_text)\n",
    "    # The following exits the loop after four rows to prevent spamming the notebook\n",
    "    if i == 3:\n",
    "        break"
   ]
  },
  {
   "cell_type": "markdown",
   "id": "stainless-climate",
   "metadata": {},
   "source": [
    "<h3>Parsing the data for all tables in a comfortable data structure.</h3>"
   ]
  },
  {
   "cell_type": "code",
   "execution_count": 18,
   "id": "innocent-vanilla",
   "metadata": {},
   "outputs": [],
   "source": [
    "parsed_news = []\n",
    "\n",
    "for file_name, news_table in html_tables.items():\n",
    "    # Iterate through all tr tags in 'news_table'\n",
    "    for x in news_table.findAll('tr'):\n",
    "        # Read the text from the tr tag into text\n",
    "        text = x.get_text() \n",
    "        # Split the text in the td tag into a list \n",
    "        date_scrape = x.td.text.split()\n",
    "        # If the length of 'date_scrape' is 1, load 'time' with the only element\n",
    "        # If not, load 'date' with the 1st element and 'time' with the second\n",
    "        if len(date_scrape) == 1:\n",
    "            time = date_scrape[0]\n",
    "        else:\n",
    "            date = date_scrape[0]\n",
    "            time = date_scrape[1]\n",
    "\n",
    "        # Extract the ticker from the file name, get the string up to the 1st '_'  \n",
    "        ticker = file_name.split(\"_\")[0]\n",
    "        # Append ticker, date, time and headline as a list to the 'parsed_news' list\n",
    "        parsed_news.append([ticker, date, time, x.a.text])"
   ]
  },
  {
   "cell_type": "markdown",
   "id": "applied-condition",
   "metadata": {},
   "source": [
    "<h3>Start of Sentiment Analysis</h3>\n"
   ]
  },
  {
   "cell_type": "code",
   "execution_count": 21,
   "id": "judicial-motel",
   "metadata": {},
   "outputs": [
    {
     "name": "stderr",
     "output_type": "stream",
     "text": [
      "[nltk_data] Downloading package stopwords to /Users/WN/nltk_data...\n",
      "[nltk_data]   Package stopwords is already up-to-date!\n",
      "[nltk_data] Downloading package vader_lexicon to\n",
      "[nltk_data]     /Users/WN/nltk_data...\n"
     ]
    }
   ],
   "source": [
    "new_words = {\n",
    "    'crushes': 10,\n",
    "    'beats': 5,\n",
    "    'misses': -5,\n",
    "    'trouble': -10,\n",
    "    'falls': -100,\n",
    "}\n",
    "\n",
    "nltk.download('stopwords')\n",
    "nltk.download('vader_lexicon')\n",
    "\n",
    "vader = SentimentIntensityAnalyzer()\n",
    "\n",
    "vader.lexicon.update(new_words)"
   ]
  },
  {
   "cell_type": "code",
   "execution_count": 22,
   "id": "pleased-trailer",
   "metadata": {},
   "outputs": [
    {
     "data": {
      "text/plain": [
       "<nltk.sentiment.vader.SentimentIntensityAnalyzer at 0x7fa5beea3cd0>"
      ]
     },
     "execution_count": 22,
     "metadata": {},
     "output_type": "execute_result"
    }
   ],
   "source": [
    "vader"
   ]
  },
  {
   "cell_type": "markdown",
   "id": "educated-enterprise",
   "metadata": {},
   "source": [
    "<h3>Data Manipulation and Visualization with Pandas</h3>"
   ]
  },
  {
   "cell_type": "code",
   "execution_count": 24,
   "id": "concerned-volume",
   "metadata": {},
   "outputs": [],
   "source": [
    "columns = ['ticker', 'date', 'time', 'headline']\n",
    "\n",
    "scored_news = pd.DataFrame(parsed_news, columns=columns)\n",
    "\n",
    "# Iterate through the headlines and get the polarity scores\n",
    "scores = [vader.polarity_scores(headline) for headline in scored_news.headline]\n",
    "# Convert the list of dicts into a DataFrame\n",
    "scores_df = pd.DataFrame(scores)\n",
    "scored_news.columns = columns\n",
    "# Join the DataFrames\n",
    "scored_news = scored_news.join(scores_df)\n",
    "# Convert the date column from string to a date\n",
    "scored_news['date'] = pd.to_datetime(scored_news.date).dt.date"
   ]
  },
  {
   "cell_type": "code",
   "execution_count": null,
   "id": "determined-monitor",
   "metadata": {},
   "outputs": [],
   "source": [
    "scored_news\n"
   ]
  },
  {
   "cell_type": "code",
   "execution_count": 27,
   "id": "forty-cincinnati",
   "metadata": {},
   "outputs": [
    {
     "data": {
      "image/png": "[encoded data removed]",
      "text/plain": [
       "<Figure size 720x432 with 1 Axes>"
      ]
     },
     "metadata": {
      "needs_background": "light"
     },
     "output_type": "display_data"
    }
   ],
   "source": [
    "plt.style.use(\"fivethirtyeight\")\n",
    "\n",
    "%matplotlib inline\n",
    "\n",
    "# Group by date and ticker columns from scored_news and calculate the mean\n",
    "mean_c = scored_news.groupby(['date', 'ticker']).mean()\n",
    "# Unstack the column ticker\n",
    "mean_c = mean_c.unstack('ticker')\n",
    "# Get the cross-section of compound in the 'columns' axis\n",
    "mean_c = mean_c.xs(\"compound\", axis=\"columns\")\n",
    "# Plot a bar chart with pandas\n",
    "mean_c.plot.bar(figsize = (10, 6));"
   ]
  },
  {
   "cell_type": "markdown",
   "id": "executed-bikini",
   "metadata": {},
   "source": [
    "<h3>There seems to be unusual activity on 2018-11-22 for TSLA</h3>\n",
    "<p>It seems there are untidy data or repetition in headlines, so let's clean up our data.</p>\n"
   ]
  },
  {
   "cell_type": "code",
   "execution_count": 34,
   "id": "structured-timber",
   "metadata": {},
   "outputs": [
    {
     "data": {
      "text/plain": [
       "'Before cleaning: 500 headlines, After cleaning: 476 headlines'"
      ]
     },
     "execution_count": 34,
     "metadata": {},
     "output_type": "execute_result"
    }
   ],
   "source": [
    "# Count the number of headlines in scored_news (store as integer)\n",
    "num_news_before = scored_news.headline.count()\n",
    "# Drop duplicates based on ticker and headline\n",
    "scored_news_clean = scored_news.drop_duplicates(subset=['headline', 'ticker'])\n",
    "# Count number of headlines after dropping duplicates (store as integer)\n",
    "num_news_after = scored_news_clean.headline.count()\n",
    "# Print before and after numbers to get an idea of how we did \n",
    "\n",
    "f\"Before cleaning: {num_news_before} headlines, After cleaning: {num_news_after} headlines\""
   ]
  },
  {
   "cell_type": "markdown",
   "id": "fatty-disco",
   "metadata": {},
   "source": [
    "<h3>Focusing on one single day of one stock</h3>"
   ]
  },
  {
   "cell_type": "code",
   "execution_count": 35,
   "id": "governing-configuration",
   "metadata": {},
   "outputs": [],
   "source": [
    "# Set the index to ticker and date\n",
    "single_day = scored_news_clean.set_index(['ticker', 'date'])\n",
    "# Cross-section the fb row\n",
    "single_day = single_day.xs('fb')\n",
    "# Select the 3rd of January of 2019\n",
    "single_day = single_day.loc['2019-01-03']\n",
    "# Convert the datetime string to just the time\n",
    "single_day['time'] = pd.to_datetime(single_day['time']).dt.time\n",
    "# Set the index to time and sort by it\n",
    "single_day = single_day.set_index('time')\n",
    "# Sort it\n",
    "single_day = single_day.sort_index()"
   ]
  },
  {
   "cell_type": "code",
   "execution_count": 36,
   "id": "loved-speaker",
   "metadata": {},
   "outputs": [
    {
     "data": {
      "text/html": [
       "<div>\n",
       "<style scoped>\n",
       "    .dataframe tbody tr th:only-of-type {\n",
       "        vertical-align: middle;\n",
       "    }\n",
       "\n",
       "    .dataframe tbody tr th {\n",
       "        vertical-align: top;\n",
       "    }\n",
       "\n",
       "    .dataframe thead th {\n",
       "        text-align: right;\n",
       "    }\n",
       "</style>\n",
       "<table border=\"1\" class=\"dataframe\">\n",
       "  <thead>\n",
       "    <tr style=\"text-align: right;\">\n",
       "      <th></th>\n",
       "      <th>headline</th>\n",
       "      <th>neg</th>\n",
       "      <th>neu</th>\n",
       "      <th>pos</th>\n",
       "      <th>compound</th>\n",
       "    </tr>\n",
       "    <tr>\n",
       "      <th>time</th>\n",
       "      <th></th>\n",
       "      <th></th>\n",
       "      <th></th>\n",
       "      <th></th>\n",
       "      <th></th>\n",
       "    </tr>\n",
       "  </thead>\n",
       "  <tbody>\n",
       "    <tr>\n",
       "      <th>06:00:00</th>\n",
       "      <td>Why Internet Censorship Doesnt Work and Never ...</td>\n",
       "      <td>0.000</td>\n",
       "      <td>1.000</td>\n",
       "      <td>0.000</td>\n",
       "      <td>0.0000</td>\n",
       "    </tr>\n",
       "    <tr>\n",
       "      <th>08:04:00</th>\n",
       "      <td>3 Big Stock Charts for Thursday: Medtronic, Fa...</td>\n",
       "      <td>0.000</td>\n",
       "      <td>1.000</td>\n",
       "      <td>0.000</td>\n",
       "      <td>0.0000</td>\n",
       "    </tr>\n",
       "    <tr>\n",
       "      <th>09:07:00</th>\n",
       "      <td>The Zacks Analyst Blog Highlights: Facebook, W...</td>\n",
       "      <td>0.000</td>\n",
       "      <td>0.846</td>\n",
       "      <td>0.154</td>\n",
       "      <td>0.2500</td>\n",
       "    </tr>\n",
       "    <tr>\n",
       "      <th>09:12:00</th>\n",
       "      <td>Why The FAANGs Are Crucial To A 2019 Market Rally</td>\n",
       "      <td>0.000</td>\n",
       "      <td>1.000</td>\n",
       "      <td>0.000</td>\n",
       "      <td>0.0000</td>\n",
       "    </tr>\n",
       "    <tr>\n",
       "      <th>09:34:00</th>\n",
       "      <td>Apple warning stoking fears of slowdown in Chi...</td>\n",
       "      <td>0.426</td>\n",
       "      <td>0.574</td>\n",
       "      <td>0.000</td>\n",
       "      <td>-0.6369</td>\n",
       "    </tr>\n",
       "    <tr>\n",
       "      <th>09:48:00</th>\n",
       "      <td>Stock Market News For Jan 3, 2019</td>\n",
       "      <td>0.000</td>\n",
       "      <td>1.000</td>\n",
       "      <td>0.000</td>\n",
       "      <td>0.0000</td>\n",
       "    </tr>\n",
       "    <tr>\n",
       "      <th>09:58:00</th>\n",
       "      <td>Facebook Falls 3%</td>\n",
       "      <td>0.981</td>\n",
       "      <td>0.019</td>\n",
       "      <td>0.000</td>\n",
       "      <td>-0.9993</td>\n",
       "    </tr>\n",
       "    <tr>\n",
       "      <th>10:08:00</th>\n",
       "      <td>Mark Zuckerberg Halts Stock Sales as Facebook ...</td>\n",
       "      <td>0.000</td>\n",
       "      <td>0.784</td>\n",
       "      <td>0.216</td>\n",
       "      <td>0.2960</td>\n",
       "    </tr>\n",
       "    <tr>\n",
       "      <th>10:21:00</th>\n",
       "      <td>Facebook Under Fire for Collecting Data From A...</td>\n",
       "      <td>0.231</td>\n",
       "      <td>0.769</td>\n",
       "      <td>0.000</td>\n",
       "      <td>-0.3400</td>\n",
       "    </tr>\n",
       "    <tr>\n",
       "      <th>10:42:00</th>\n",
       "      <td>Why Netflix Stock Will Rise Back Above $300 In...</td>\n",
       "      <td>0.000</td>\n",
       "      <td>1.000</td>\n",
       "      <td>0.000</td>\n",
       "      <td>0.0000</td>\n",
       "    </tr>\n",
       "    <tr>\n",
       "      <th>12:25:00</th>\n",
       "      <td>3 Great Reasons You Should Be Bullish on Twili...</td>\n",
       "      <td>0.000</td>\n",
       "      <td>0.661</td>\n",
       "      <td>0.339</td>\n",
       "      <td>0.6249</td>\n",
       "    </tr>\n",
       "    <tr>\n",
       "      <th>13:31:00</th>\n",
       "      <td>Take the Money And Run From Twilio Stock</td>\n",
       "      <td>0.000</td>\n",
       "      <td>1.000</td>\n",
       "      <td>0.000</td>\n",
       "      <td>0.0000</td>\n",
       "    </tr>\n",
       "    <tr>\n",
       "      <th>13:36:00</th>\n",
       "      <td>What's Next For Apple (AAPL) After It Slashed ...</td>\n",
       "      <td>0.147</td>\n",
       "      <td>0.853</td>\n",
       "      <td>0.000</td>\n",
       "      <td>-0.2263</td>\n",
       "    </tr>\n",
       "    <tr>\n",
       "      <th>15:14:00</th>\n",
       "      <td>Zuckerberg Paused His Selling of Facebook Shar...</td>\n",
       "      <td>0.000</td>\n",
       "      <td>0.662</td>\n",
       "      <td>0.338</td>\n",
       "      <td>0.6249</td>\n",
       "    </tr>\n",
       "    <tr>\n",
       "      <th>15:26:00</th>\n",
       "      <td>Is Facebook Stock the Best FANG Stock to Buy?</td>\n",
       "      <td>0.000</td>\n",
       "      <td>0.656</td>\n",
       "      <td>0.344</td>\n",
       "      <td>0.6369</td>\n",
       "    </tr>\n",
       "    <tr>\n",
       "      <th>16:10:00</th>\n",
       "      <td>Google Stock Upgraded, Viewed As 'Most Defensi...</td>\n",
       "      <td>0.000</td>\n",
       "      <td>0.878</td>\n",
       "      <td>0.122</td>\n",
       "      <td>0.1010</td>\n",
       "    </tr>\n",
       "    <tr>\n",
       "      <th>17:24:00</th>\n",
       "      <td>Facebook (FB) Reportedly Testing Dark Mode on ...</td>\n",
       "      <td>0.000</td>\n",
       "      <td>1.000</td>\n",
       "      <td>0.000</td>\n",
       "      <td>0.0000</td>\n",
       "    </tr>\n",
       "    <tr>\n",
       "      <th>17:45:00</th>\n",
       "      <td>Investors Are Focused Too Closely on Facebook ...</td>\n",
       "      <td>0.000</td>\n",
       "      <td>0.652</td>\n",
       "      <td>0.348</td>\n",
       "      <td>0.5859</td>\n",
       "    </tr>\n",
       "    <tr>\n",
       "      <th>22:59:00</th>\n",
       "      <td>[$$] Facebook Begins New Year in Fixer-Upper Mode</td>\n",
       "      <td>0.000</td>\n",
       "      <td>1.000</td>\n",
       "      <td>0.000</td>\n",
       "      <td>0.0000</td>\n",
       "    </tr>\n",
       "  </tbody>\n",
       "</table>\n",
       "</div>"
      ],
      "text/plain": [
       "                                                   headline    neg    neu  \\\n",
       "time                                                                        \n",
       "06:00:00  Why Internet Censorship Doesnt Work and Never ...  0.000  1.000   \n",
       "08:04:00  3 Big Stock Charts for Thursday: Medtronic, Fa...  0.000  1.000   \n",
       "09:07:00  The Zacks Analyst Blog Highlights: Facebook, W...  0.000  0.846   \n",
       "09:12:00  Why The FAANGs Are Crucial To A 2019 Market Rally  0.000  1.000   \n",
       "09:34:00  Apple warning stoking fears of slowdown in Chi...  0.426  0.574   \n",
       "09:48:00                  Stock Market News For Jan 3, 2019  0.000  1.000   \n",
       "09:58:00                                  Facebook Falls 3%  0.981  0.019   \n",
       "10:08:00  Mark Zuckerberg Halts Stock Sales as Facebook ...  0.000  0.784   \n",
       "10:21:00  Facebook Under Fire for Collecting Data From A...  0.231  0.769   \n",
       "10:42:00  Why Netflix Stock Will Rise Back Above $300 In...  0.000  1.000   \n",
       "12:25:00  3 Great Reasons You Should Be Bullish on Twili...  0.000  0.661   \n",
       "13:31:00           Take the Money And Run From Twilio Stock  0.000  1.000   \n",
       "13:36:00  What's Next For Apple (AAPL) After It Slashed ...  0.147  0.853   \n",
       "15:14:00  Zuckerberg Paused His Selling of Facebook Shar...  0.000  0.662   \n",
       "15:26:00      Is Facebook Stock the Best FANG Stock to Buy?  0.000  0.656   \n",
       "16:10:00  Google Stock Upgraded, Viewed As 'Most Defensi...  0.000  0.878   \n",
       "17:24:00  Facebook (FB) Reportedly Testing Dark Mode on ...  0.000  1.000   \n",
       "17:45:00  Investors Are Focused Too Closely on Facebook ...  0.000  0.652   \n",
       "22:59:00  [$$] Facebook Begins New Year in Fixer-Upper Mode  0.000  1.000   \n",
       "\n",
       "            pos  compound  \n",
       "time                       \n",
       "06:00:00  0.000    0.0000  \n",
       "08:04:00  0.000    0.0000  \n",
       "09:07:00  0.154    0.2500  \n",
       "09:12:00  0.000    0.0000  \n",
       "09:34:00  0.000   -0.6369  \n",
       "09:48:00  0.000    0.0000  \n",
       "09:58:00  0.000   -0.9993  \n",
       "10:08:00  0.216    0.2960  \n",
       "10:21:00  0.000   -0.3400  \n",
       "10:42:00  0.000    0.0000  \n",
       "12:25:00  0.339    0.6249  \n",
       "13:31:00  0.000    0.0000  \n",
       "13:36:00  0.000   -0.2263  \n",
       "15:14:00  0.338    0.6249  \n",
       "15:26:00  0.344    0.6369  \n",
       "16:10:00  0.122    0.1010  \n",
       "17:24:00  0.000    0.0000  \n",
       "17:45:00  0.348    0.5859  \n",
       "22:59:00  0.000    0.0000  "
      ]
     },
     "execution_count": 36,
     "metadata": {},
     "output_type": "execute_result"
    }
   ],
   "source": [
    "single_day"
   ]
  },
  {
   "cell_type": "markdown",
   "id": "covered-martial",
   "metadata": {},
   "source": [
    "<h3>Visualizing the single day of trading for a single stock</h3>"
   ]
  },
  {
   "cell_type": "code",
   "execution_count": 37,
   "id": "correct-overview",
   "metadata": {},
   "outputs": [
    {
     "data": {
      "image/png": "[encoded data removed]",
      "text/plain": [
       "<Figure size 720x432 with 1 Axes>"
      ]
     },
     "metadata": {
      "needs_background": "light"
     },
     "output_type": "display_data"
    }
   ],
   "source": [
    "TITLE = \"Negative, neutral, and positive sentiment for FB on 2019-01-03\"\n",
    "\n",
    "COLORS = [\"red\",\"orange\", \"green\"]\n",
    "\n",
    "# Drop the columns that aren't useful for the plot\n",
    "plot_day = single_day.drop(['compound', 'headline'], 1)\n",
    "\n",
    "# Change the column names to 'negative', 'positive', and 'neutral'\n",
    "plot_day.columns = ['negative', 'neutral', 'positive']\n",
    "\n",
    "# Plot a stacked bar chart\n",
    "plot_day.plot.bar(stacked = True, figsize=(10, 6), title = TITLE, color = COLORS).legend(bbox_to_anchor=(1.2, 0.5))\n",
    "plt.ylabel(\"scores\");"
   ]
  },
  {
   "cell_type": "code",
   "execution_count": null,
   "id": "marked-pioneer",
   "metadata": {},
   "outputs": [],
   "source": []
  }
 ],
 "metadata": {
  "kernelspec": {
   "display_name": "Python 3",
   "language": "python",
   "name": "python3"
  },
  "language_info": {
   "codemirror_mode": {
    "name": "ipython",
    "version": 3
   },
   "file_extension": ".py",
   "mimetype": "text/x-python",
   "name": "python",
   "nbconvert_exporter": "python",
   "pygments_lexer": "ipython3",
   "version": "3.7.7"
  }
 },
 "nbformat": 4,
 "nbformat_minor": 5
}
