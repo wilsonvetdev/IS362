{
 "cells": [
  {
   "cell_type": "code",
   "execution_count": 2,
   "id": "reduced-circulation",
   "metadata": {},
   "outputs": [],
   "source": [
    "from bs4 import BeautifulSoup\n",
    "import os\n",
    "\n",
    "html_tables = {}\n",
    "\n",
    "for table_name in os.listdir('datasets'):\n",
    "    table_path = f'datasets/{table_name}'\n",
    "    table_file = open(table_path, 'r')\n",
    "    html = BeautifulSoup(table_file)\n",
    "    html_table = html.find(id='news-table')\n",
    "    html_tables[table_name] = html_table"
   ]
  },
  {
   "cell_type": "code",
   "execution_count": 4,
   "id": "finnish-cameroon",
   "metadata": {},
   "outputs": [
    {
     "name": "stdout",
     "output_type": "stream",
     "text": [
      "File number 1:\n",
      "Billionaire investor questions Elon Musk getting 'a pass' after bombshell tweets\n",
      "Sep-21-18 09:56PM  \n",
      "File number 2:\n",
      "Broadcoms Stock Looks Like a Winner\n",
      "09:30PM  \n",
      "File number 3:\n",
      "SHAREHOLDER ALERT:  Pomerantz Law Firm Reminds Shareholders with Losses on their Investment in Tesla, Inc. of Class Action Lawsuit and Upcoming Deadline  TSLA\n",
      "05:30PM  \n",
      "File number 4:\n",
      "Tesla's People Problem and the Inscrutable Musk: 2 Things That Make You Go Hmmm\n",
      "05:30PM  \n"
     ]
    }
   ],
   "source": [
    "tsla = html_tables['tsla_22sep.html']\n",
    "# Get all the table rows tagged in HTML with <tr> into 'tesla_tr'\n",
    "tsla_tr = tsla.findAll('tr')\n",
    "\n",
    "# For each row...\n",
    "for i, table_row in enumerate(tsla_tr):\n",
    "    # Read the text of the element 'a' into 'link_text'\n",
    "    link_text = table_row.a.get_text()\n",
    "    # Read the text of the element 'td' into 'data_text'\n",
    "    data_text = table_row.td.get_text()\n",
    "    # Print the count\n",
    "    print(f'File number {i+1}:')\n",
    "    # Print the contents of 'link_text' and 'data_text' \n",
    "    print(link_text)\n",
    "    print(data_text)\n",
    "    # The following exits the loop after four rows to prevent spamming the notebook\n",
    "    if i == 3:\n",
    "        break"
   ]
  },
  {
   "cell_type": "code",
   "execution_count": null,
   "id": "chinese-surgery",
   "metadata": {},
   "outputs": [],
   "source": []
  }
 ],
 "metadata": {
  "kernelspec": {
   "display_name": "Python 3",
   "language": "python",
   "name": "python3"
  },
  "language_info": {
   "codemirror_mode": {
    "name": "ipython",
    "version": 3
   },
   "file_extension": ".py",
   "mimetype": "text/x-python",
   "name": "python",
   "nbconvert_exporter": "python",
   "pygments_lexer": "ipython3",
   "version": "3.7.7"
  }
 },
 "nbformat": 4,
 "nbformat_minor": 5
}
